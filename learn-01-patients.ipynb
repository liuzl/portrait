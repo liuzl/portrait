{
 "cells": [
  {
   "cell_type": "code",
   "execution_count": 1,
   "metadata": {},
   "outputs": [
    {
     "name": "stdout",
     "output_type": "stream",
     "text": [
      "{\"success\":true}\r\n"
     ]
    }
   ],
   "source": [
    "!curl localhost:10101/index/patients \\\n",
    "     -X POST"
   ]
  },
  {
   "cell_type": "code",
   "execution_count": 2,
   "metadata": {},
   "outputs": [
    {
     "name": "stdout",
     "output_type": "stream",
     "text": [
      "{\"success\":true}\r\n"
     ]
    }
   ],
   "source": [
    "!curl localhost:10101/index/patients/field/age \\\n",
    "     -X POST \\\n",
    "     -d '{\"options\":{\"type\": \"int\", \"min\": 0, \"max\": 120}}'"
   ]
  },
  {
   "cell_type": "code",
   "execution_count": 3,
   "metadata": {},
   "outputs": [
    {
     "name": "stdout",
     "output_type": "stream",
     "text": [
      "{\"success\":true}\r\n"
     ]
    }
   ],
   "source": [
    "!curl localhost:10101/index/patients/field/weight \\\n",
    "     -X POST \\\n",
    "     -d '{\"options\":{\"type\": \"int\", \"min\": 0, \"max\": 500}}'"
   ]
  },
  {
   "cell_type": "code",
   "execution_count": 4,
   "metadata": {},
   "outputs": [
    {
     "name": "stdout",
     "output_type": "stream",
     "text": [
      "{\"success\":true}\r\n"
     ]
    }
   ],
   "source": [
    "!curl localhost:10101/index/patients/field/tcells \\\n",
    "     -X POST \\\n",
    "     -d '{\"options\":{\"type\": \"int\", \"min\": 0, \"max\": 2000}}'"
   ]
  },
  {
   "cell_type": "code",
   "execution_count": 5,
   "metadata": {},
   "outputs": [
    {
     "name": "stdout",
     "output_type": "stream",
     "text": [
      "{\"results\":[true]}\r\n"
     ]
    }
   ],
   "source": [
    "!curl localhost:10101/index/patients/query \\\n",
    "     -X POST \\\n",
    "     -d 'Set(1, age=34)'"
   ]
  },
  {
   "cell_type": "code",
   "execution_count": 6,
   "metadata": {},
   "outputs": [
    {
     "name": "stdout",
     "output_type": "stream",
     "text": [
      "{\"results\":[true]}\r\n"
     ]
    }
   ],
   "source": [
    "!curl localhost:10101/index/patients/query \\\n",
    "     -X POST \\\n",
    "     -d 'Set(1, weight=128)'"
   ]
  },
  {
   "cell_type": "code",
   "execution_count": 7,
   "metadata": {},
   "outputs": [
    {
     "name": "stdout",
     "output_type": "stream",
     "text": [
      "{\"results\":[true]}\r\n"
     ]
    }
   ],
   "source": [
    "!curl localhost:10101/index/patients/query \\\n",
    "     -X POST \\\n",
    "     -d 'Set(1, tcells=1145)'"
   ]
  },
  {
   "cell_type": "code",
   "execution_count": 8,
   "metadata": {},
   "outputs": [],
   "source": [
    "!echo \"1,34\\\n",
    "2,57\\\n",
    "3,19\\\n",
    "4,40\\\n",
    "5,32\\\n",
    "6,71\\\n",
    "7,28\\\n",
    "8,33\\\n",
    "9,63\" > ages.csv"
   ]
  },
  {
   "cell_type": "code",
   "execution_count": 14,
   "metadata": {},
   "outputs": [
    {
     "name": "stdout",
     "output_type": "stream",
     "text": [
      "{\"results\":[{\"attrs\":{},\"columns\":[1,2]}]}\r\n"
     ]
    }
   ],
   "source": [
    "!curl localhost:10101/index/patients/query \\\n",
    "     -X POST \\\n",
    "     -d 'Range(age > 4)'"
   ]
  },
  {
   "cell_type": "code",
   "execution_count": 13,
   "metadata": {},
   "outputs": [
    {
     "name": "stdout",
     "output_type": "stream",
     "text": [
      "{\"results\":[true]}\r\n"
     ]
    }
   ],
   "source": [
    "!curl localhost:10101/index/patients/query \\\n",
    "     -X POST \\\n",
    "     -d 'Set(2, age=57)'"
   ]
  },
  {
   "cell_type": "code",
   "execution_count": 15,
   "metadata": {},
   "outputs": [
    {
     "name": "stdout",
     "output_type": "stream",
     "text": [
      "{\"results\":[{\"value\":57,\"count\":1}]}\r\n"
     ]
    }
   ],
   "source": [
    "!curl localhost:10101/index/patients/query \\\n",
    "     -X POST \\\n",
    "     -d 'Min(Range(age > 40), field=\"age\")'"
   ]
  },
  {
   "cell_type": "code",
   "execution_count": null,
   "metadata": {},
   "outputs": [],
   "source": []
  }
 ],
 "metadata": {
  "kernelspec": {
   "display_name": "Python 3",
   "language": "python",
   "name": "python3"
  },
  "language_info": {
   "codemirror_mode": {
    "name": "ipython",
    "version": 3
   },
   "file_extension": ".py",
   "mimetype": "text/x-python",
   "name": "python",
   "nbconvert_exporter": "python",
   "pygments_lexer": "ipython3",
   "version": "3.6.5"
  }
 },
 "nbformat": 4,
 "nbformat_minor": 2
}
