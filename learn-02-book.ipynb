{
 "cells": [
  {
   "cell_type": "markdown",
   "metadata": {},
   "source": [
    "# Storing Row and Column Attributes\n",
    "\n",
    "## Introduction\n",
    "\n",
    "Pilosa can store arbitrary values associated to any row or column. In Pilosa, these are referred to as `attributes`, and they can be of type `string`, `integer`, `boolean`, or `float`. In this tutorial we will store some attribute data and then run some queries that return that data.\n",
    "\n",
    "First, create an index called `books` to use for this tutorial:"
   ]
  },
  {
   "cell_type": "code",
   "execution_count": 1,
   "metadata": {},
   "outputs": [
    {
     "name": "stdout",
     "output_type": "stream",
     "text": [
      "{\"success\":true}\r\n"
     ]
    }
   ],
   "source": [
    "!curl localhost:10101/index/books \\\n",
    "     -X POST"
   ]
  },
  {
   "cell_type": "markdown",
   "metadata": {},
   "source": [
    "Next, create a field in the `books` index called `members` which will represent library members who have read books."
   ]
  },
  {
   "cell_type": "code",
   "execution_count": 2,
   "metadata": {},
   "outputs": [
    {
     "name": "stdout",
     "output_type": "stream",
     "text": [
      "{\"success\":true}\r\n"
     ]
    }
   ],
   "source": [
    "!curl localhost:10101/index/books/field/members \\\n",
    "     -X POST \\\n",
    "     -d '{}'"
   ]
  },
  {
   "cell_type": "markdown",
   "metadata": {},
   "source": [
    "Now, let’s add some books to our index."
   ]
  },
  {
   "cell_type": "code",
   "execution_count": 4,
   "metadata": {},
   "outputs": [
    {
     "name": "stdout",
     "output_type": "stream",
     "text": [
      "{\"results\":[null,null,null,null,null]}\r\n"
     ]
    }
   ],
   "source": [
    "!curl localhost:10101/index/books/query \\\n",
    "     -X POST \\\n",
    "     -d 'SetColumnAttrs(1, name=\"To Kill a Mockingbird\", year=1960)\\\n",
    "         SetColumnAttrs(2, name=\"No Name in the Street\", year=1972)\\\n",
    "         SetColumnAttrs(3, name=\"The Tipping Point\", year=2000)\\\n",
    "         SetColumnAttrs(4, name=\"Out Stealing Horses\", year=2003)\\\n",
    "         SetColumnAttrs(5, name=\"The Forever War\", year=2008)'"
   ]
  },
  {
   "cell_type": "markdown",
   "metadata": {},
   "source": [
    "And add some members."
   ]
  },
  {
   "cell_type": "code",
   "execution_count": 5,
   "metadata": {},
   "outputs": [
    {
     "name": "stdout",
     "output_type": "stream",
     "text": [
      "{\"results\":[null,null,null,null,null]}\r\n"
     ]
    }
   ],
   "source": [
    "!curl localhost:10101/index/books/query \\\n",
    "     -X POST \\\n",
    "     -d 'SetRowAttrs(members, 10001, fullName=\"John Smith\")\\\n",
    "         SetRowAttrs(members, 10002, fullName=\"Sue Perkins\")\\\n",
    "         SetRowAttrs(members, 10003, fullName=\"Jennifer Hawks\")\\\n",
    "         SetRowAttrs(members, 10004, fullName=\"Pedro Vazquez\")\\\n",
    "         SetRowAttrs(members, 10005, fullName=\"Pat Washington\")'"
   ]
  },
  {
   "cell_type": "markdown",
   "metadata": {},
   "source": [
    "At this point we can query one of the `member` records by querying that row."
   ]
  },
  {
   "cell_type": "code",
   "execution_count": 7,
   "metadata": {},
   "outputs": [
    {
     "name": "stdout",
     "output_type": "stream",
     "text": [
      "{\"results\":[{\"attrs\":{\"fullName\":\"Sue Perkins\"},\"columns\":[]}]}\r\n"
     ]
    }
   ],
   "source": [
    "!curl localhost:10101/index/books/query \\\n",
    "     -X POST \\\n",
    "     -d 'Row(members=10002)'"
   ]
  },
  {
   "cell_type": "markdown",
   "metadata": {},
   "source": [
    "Now let’s add some data to the matrix such that each pair represents a member who has read that book."
   ]
  },
  {
   "cell_type": "code",
   "execution_count": 8,
   "metadata": {},
   "outputs": [
    {
     "name": "stdout",
     "output_type": "stream",
     "text": [
      "{\"results\":[true,true,true,true,true,true,true,true,true,true,true,true,true]}\r\n"
     ]
    }
   ],
   "source": [
    "!curl localhost:10101/index/books/query \\\n",
    "     -X POST \\\n",
    "     -d 'Set(3, members=10001)\\\n",
    "         Set(5, members=10001)\\\n",
    "         Set(1, members=10002)\\\n",
    "         Set(2, members=10002)\\\n",
    "         Set(4, members=10002)\\\n",
    "         Set(3, members=10003)\\\n",
    "         Set(4, members=10004)\\\n",
    "         Set(5, members=10004)\\\n",
    "         Set(1, members=10005)\\\n",
    "         Set(2, members=10005)\\\n",
    "         Set(3, members=10005)\\\n",
    "         Set(4, members=10005)\\\n",
    "         Set(5, members=10005)'"
   ]
  },
  {
   "cell_type": "markdown",
   "metadata": {},
   "source": [
    "Now pull the record for `Sue Perkins` again."
   ]
  },
  {
   "cell_type": "code",
   "execution_count": 9,
   "metadata": {},
   "outputs": [
    {
     "name": "stdout",
     "output_type": "stream",
     "text": [
      "{\"results\":[{\"attrs\":{\"fullName\":\"Sue Perkins\"},\"columns\":[1,2,4]}]}\r\n"
     ]
    }
   ],
   "source": [
    "!curl localhost:10101/index/books/query \\\n",
    "     -X POST \\\n",
    "     -d 'Row(members=10002)'"
   ]
  },
  {
   "cell_type": "markdown",
   "metadata": {},
   "source": [
    "Notice that the result set now contains a list of integers in the `columns` attribute. These integers match the column IDs of the books that Sue has read.\n",
    "\n",
    "In order to retrieve the attribute information that we stored for each book, we need to add a URL parameter `columnAttrs=true` to the query."
   ]
  },
  {
   "cell_type": "code",
   "execution_count": 10,
   "metadata": {},
   "outputs": [
    {
     "name": "stdout",
     "output_type": "stream",
     "text": [
      "{\"results\":[{\"attrs\":{\"fullName\":\"Sue Perkins\"},\"columns\":[1,2,4]}],\"columnAttrs\":[{\"id\":1,\"attrs\":{\"name\":\"To Kill a Mockingbird\",\"year\":1960}},{\"id\":2,\"attrs\":{\"name\":\"No Name in the Street\",\"year\":1972}},{\"id\":4,\"attrs\":{\"name\":\"Out Stealing Horses\",\"year\":2003}}]}\r\n"
     ]
    }
   ],
   "source": [
    "!curl localhost:10101/index/books/query?columnAttrs=true \\\n",
    "     -X POST \\\n",
    "     -d 'Row(members=10002)'"
   ]
  },
  {
   "cell_type": "markdown",
   "metadata": {},
   "source": [
    "The `book` attributes are included in the result set at the `columnAttrs` attribute.\n",
    "\n",
    "Finally, if we want to find out which books were read by both `Sue` and `Pedro`, we just perform an `Intersect` query on those two members:\n"
   ]
  },
  {
   "cell_type": "code",
   "execution_count": 11,
   "metadata": {},
   "outputs": [
    {
     "name": "stdout",
     "output_type": "stream",
     "text": [
      "{\"results\":[{\"attrs\":{},\"columns\":[4]}],\"columnAttrs\":[{\"id\":4,\"attrs\":{\"name\":\"Out Stealing Horses\",\"year\":2003}}]}\r\n"
     ]
    }
   ],
   "source": [
    "!curl localhost:10101/index/books/query?columnAttrs=true \\\n",
    "     -X POST \\\n",
    "     -d 'Intersect(Row(members=10002), Row(members=10004))'"
   ]
  },
  {
   "cell_type": "markdown",
   "metadata": {},
   "source": [
    "Notice that we don’t get row attributes on a complex query, but we still get the column attributes—in this case book information."
   ]
  },
  {
   "cell_type": "code",
   "execution_count": null,
   "metadata": {},
   "outputs": [],
   "source": []
  }
 ],
 "metadata": {
  "kernelspec": {
   "display_name": "Python 3",
   "language": "python",
   "name": "python3"
  },
  "language_info": {
   "codemirror_mode": {
    "name": "ipython",
    "version": 3
   },
   "file_extension": ".py",
   "mimetype": "text/x-python",
   "name": "python",
   "nbconvert_exporter": "python",
   "pygments_lexer": "ipython3",
   "version": "3.6.5"
  }
 },
 "nbformat": 4,
 "nbformat_minor": 2
}
