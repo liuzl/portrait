{
 "cells": [
  {
   "cell_type": "code",
   "execution_count": 30,
   "metadata": {},
   "outputs": [
    {
     "name": "stdout",
     "output_type": "stream",
     "text": [
      "\u001b[1;39m{\r\n",
      "  \u001b[0m\u001b[34;1m\"results\"\u001b[0m\u001b[1;39m: \u001b[0m\u001b[1;39m[\r\n",
      "    \u001b[1;39m[\r\n",
      "      \u001b[1;39m{\r\n",
      "        \u001b[0m\u001b[34;1m\"id\"\u001b[0m\u001b[1;39m: \u001b[0m\u001b[0;39m0\u001b[0m\u001b[1;39m,\r\n",
      "        \u001b[0m\u001b[34;1m\"key\"\u001b[0m\u001b[1;39m: \u001b[0m\u001b[0;32m\"Specialist\"\u001b[0m\u001b[1;39m,\r\n",
      "        \u001b[0m\u001b[34;1m\"count\"\u001b[0m\u001b[1;39m: \u001b[0m\u001b[0;39m186\u001b[0m\u001b[1;39m\r\n",
      "      \u001b[1;39m}\u001b[0m\u001b[1;39m,\r\n",
      "      \u001b[1;39m{\r\n",
      "        \u001b[0m\u001b[34;1m\"id\"\u001b[0m\u001b[1;39m: \u001b[0m\u001b[0;39m0\u001b[0m\u001b[1;39m,\r\n",
      "        \u001b[0m\u001b[34;1m\"key\"\u001b[0m\u001b[1;39m: \u001b[0m\u001b[0;32m\"Director\"\u001b[0m\u001b[1;39m,\r\n",
      "        \u001b[0m\u001b[34;1m\"count\"\u001b[0m\u001b[1;39m: \u001b[0m\u001b[0;39m118\u001b[0m\u001b[1;39m\r\n",
      "      \u001b[1;39m}\u001b[0m\u001b[1;39m,\r\n",
      "      \u001b[1;39m{\r\n",
      "        \u001b[0m\u001b[34;1m\"id\"\u001b[0m\u001b[1;39m: \u001b[0m\u001b[0;39m0\u001b[0m\u001b[1;39m,\r\n",
      "        \u001b[0m\u001b[34;1m\"key\"\u001b[0m\u001b[1;39m: \u001b[0m\u001b[0;32m\"Designer\"\u001b[0m\u001b[1;39m,\r\n",
      "        \u001b[0m\u001b[34;1m\"count\"\u001b[0m\u001b[1;39m: \u001b[0m\u001b[0;39m77\u001b[0m\u001b[1;39m\r\n",
      "      \u001b[1;39m}\u001b[0m\u001b[1;39m,\r\n",
      "      \u001b[1;39m{\r\n",
      "        \u001b[0m\u001b[34;1m\"id\"\u001b[0m\u001b[1;39m: \u001b[0m\u001b[0;39m0\u001b[0m\u001b[1;39m,\r\n",
      "        \u001b[0m\u001b[34;1m\"key\"\u001b[0m\u001b[1;39m: \u001b[0m\u001b[0;32m\"Analyst\"\u001b[0m\u001b[1;39m,\r\n",
      "        \u001b[0m\u001b[34;1m\"count\"\u001b[0m\u001b[1;39m: \u001b[0m\u001b[0;39m61\u001b[0m\u001b[1;39m\r\n",
      "      \u001b[1;39m}\u001b[0m\u001b[1;39m,\r\n",
      "      \u001b[1;39m{\r\n",
      "        \u001b[0m\u001b[34;1m\"id\"\u001b[0m\u001b[1;39m: \u001b[0m\u001b[0;39m0\u001b[0m\u001b[1;39m,\r\n",
      "        \u001b[0m\u001b[34;1m\"key\"\u001b[0m\u001b[1;39m: \u001b[0m\u001b[0;32m\"Consultant\"\u001b[0m\u001b[1;39m,\r\n",
      "        \u001b[0m\u001b[34;1m\"count\"\u001b[0m\u001b[1;39m: \u001b[0m\u001b[0;39m53\u001b[0m\u001b[1;39m\r\n",
      "      \u001b[1;39m}\u001b[0m\u001b[1;39m\r\n",
      "    \u001b[1;39m]\u001b[0m\u001b[1;39m\r\n",
      "  \u001b[1;39m]\u001b[0m\u001b[1;39m\r\n",
      "\u001b[1;39m}\u001b[0m\r\n"
     ]
    }
   ],
   "source": [
    "!curl -s localhost:10101/index/users/query \\\n",
    "     -X POST \\\n",
    "     -d 'TopN(title, n=5)'|jq"
   ]
  },
  {
   "cell_type": "code",
   "execution_count": 29,
   "metadata": {},
   "outputs": [
    {
     "name": "stdout",
     "output_type": "stream",
     "text": [
      "\u001b[1;39m{\r\n",
      "  \u001b[0m\u001b[34;1m\"results\"\u001b[0m\u001b[1;39m: \u001b[0m\u001b[1;39m[\r\n",
      "    \u001b[1;39m{\r\n",
      "      \u001b[0m\u001b[34;1m\"attrs\"\u001b[0m\u001b[1;39m: \u001b[0m\u001b[1;39m{}\u001b[0m\u001b[1;39m,\r\n",
      "      \u001b[0m\u001b[34;1m\"columns\"\u001b[0m\u001b[1;39m: \u001b[0m\u001b[1;39m[\r\n",
      "        \u001b[0;39m1\u001b[0m\u001b[1;39m,\r\n",
      "        \u001b[0;39m66\u001b[0m\u001b[1;39m,\r\n",
      "        \u001b[0;39m166\u001b[0m\u001b[1;39m,\r\n",
      "        \u001b[0;39m257\u001b[0m\u001b[1;39m,\r\n",
      "        \u001b[0;39m468\u001b[0m\u001b[1;39m,\r\n",
      "        \u001b[0;39m570\u001b[0m\u001b[1;39m,\r\n",
      "        \u001b[0;39m600\u001b[0m\u001b[1;39m,\r\n",
      "        \u001b[0;39m843\u001b[0m\u001b[1;39m,\r\n",
      "        \u001b[0;39m929\u001b[0m\u001b[1;39m\r\n",
      "      \u001b[1;39m]\u001b[0m\u001b[1;39m\r\n",
      "    \u001b[1;39m}\u001b[0m\u001b[1;39m\r\n",
      "  \u001b[1;39m]\u001b[0m\u001b[1;39m\r\n",
      "\u001b[1;39m}\u001b[0m\r\n"
     ]
    }
   ],
   "source": [
    "!curl -s localhost:10101/index/users/query?columnAttrs=true \\\n",
    "     -X POST \\\n",
    "     -d 'Range(age > 108)'|jq"
   ]
  },
  {
   "cell_type": "code",
   "execution_count": 31,
   "metadata": {},
   "outputs": [
    {
     "name": "stdout",
     "output_type": "stream",
     "text": [
      "\u001b[1;39m{\r\n",
      "  \u001b[0m\u001b[34;1m\"results\"\u001b[0m\u001b[1;39m: \u001b[0m\u001b[1;39m[\r\n",
      "    \u001b[1;39m{\r\n",
      "      \u001b[0m\u001b[34;1m\"attrs\"\u001b[0m\u001b[1;39m: \u001b[0m\u001b[1;39m{}\u001b[0m\u001b[1;39m,\r\n",
      "      \u001b[0m\u001b[34;1m\"columns\"\u001b[0m\u001b[1;39m: \u001b[0m\u001b[1;39m[\r\n",
      "        \u001b[0;39m14\u001b[0m\u001b[1;39m,\r\n",
      "        \u001b[0;39m45\u001b[0m\u001b[1;39m,\r\n",
      "        \u001b[0;39m97\u001b[0m\u001b[1;39m,\r\n",
      "        \u001b[0;39m155\u001b[0m\u001b[1;39m,\r\n",
      "        \u001b[0;39m323\u001b[0m\u001b[1;39m,\r\n",
      "        \u001b[0;39m341\u001b[0m\u001b[1;39m,\r\n",
      "        \u001b[0;39m586\u001b[0m\u001b[1;39m,\r\n",
      "        \u001b[0;39m693\u001b[0m\u001b[1;39m,\r\n",
      "        \u001b[0;39m705\u001b[0m\u001b[1;39m,\r\n",
      "        \u001b[0;39m720\u001b[0m\u001b[1;39m,\r\n",
      "        \u001b[0;39m815\u001b[0m\u001b[1;39m,\r\n",
      "        \u001b[0;39m834\u001b[0m\u001b[1;39m,\r\n",
      "        \u001b[0;39m889\u001b[0m\u001b[1;39m,\r\n",
      "        \u001b[0;39m949\u001b[0m\u001b[1;39m\r\n",
      "      \u001b[1;39m]\u001b[0m\u001b[1;39m\r\n",
      "    \u001b[1;39m}\u001b[0m\u001b[1;39m\r\n",
      "  \u001b[1;39m]\u001b[0m\u001b[1;39m\r\n",
      "\u001b[1;39m}\u001b[0m\r\n"
     ]
    }
   ],
   "source": [
    "!curl -s localhost:10101/index/users/query?columnAttrs=true \\\n",
    "     -X POST \\\n",
    "     -d 'Intersect(Row(title=\"Consultant\"), Range(age>80))'|jq"
   ]
  },
  {
   "cell_type": "code",
   "execution_count": null,
   "metadata": {},
   "outputs": [],
   "source": []
  }
 ],
 "metadata": {
  "kernelspec": {
   "display_name": "Python 3",
   "language": "python",
   "name": "python3"
  },
  "language_info": {
   "codemirror_mode": {
    "name": "ipython",
    "version": 3
   },
   "file_extension": ".py",
   "mimetype": "text/x-python",
   "name": "python",
   "nbconvert_exporter": "python",
   "pygments_lexer": "ipython3",
   "version": "3.6.5"
  }
 },
 "nbformat": 4,
 "nbformat_minor": 2
}
